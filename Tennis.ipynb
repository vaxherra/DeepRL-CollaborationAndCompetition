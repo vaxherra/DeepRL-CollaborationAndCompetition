{
 "cells": [
  {
   "cell_type": "markdown",
   "metadata": {
    "pycharm": {
     "name": "#%% md\n"
    }
   },
   "source": [
    "# Collaboration and Competition\n",
    "\n",
    "---\n",
    "\n",
    "You are welcome to use this coding environment to train your agent for the project.  Follow the instructions below to get started!\n",
    "\n",
    "### 1. Start the Environment\n",
    "\n",
    "Run the next code cell to install a few packages.  This line will take a few minutes to run!"
   ]
  },
  {
   "cell_type": "code",
   "execution_count": 1,
   "metadata": {
    "pycharm": {
     "name": "#%%\n"
    }
   },
   "outputs": [
    {
     "name": "stdout",
     "output_type": "stream",
     "text": [
      "\u001B[31mtensorflow 1.7.1 has requirement numpy>=1.13.3, but you'll have numpy 1.12.1 which is incompatible.\u001B[0m\r\n",
      "\u001B[31mipython 6.5.0 has requirement prompt-toolkit<2.0.0,>=1.0.15, but you'll have prompt-toolkit 3.0.31 which is incompatible.\u001B[0m\r\n",
      "\u001B[31mjupyter-console 6.4.3 has requirement jupyter-client>=7.0.0, but you'll have jupyter-client 5.2.4 which is incompatible.\u001B[0m\r\n"
     ]
    }
   ],
   "source": [
    "!pip -q install ./python"
   ]
  },
  {
   "cell_type": "markdown",
   "metadata": {
    "pycharm": {
     "name": "#%% md\n"
    }
   },
   "source": [
    "The environment is already saved in the Workspace and can be accessed at the file path provided below. "
   ]
  },
  {
   "cell_type": "code",
   "execution_count": 2,
   "metadata": {
    "pycharm": {
     "name": "#%%\n"
    }
   },
   "outputs": [
    {
     "name": "stderr",
     "output_type": "stream",
     "text": [
      "INFO:unityagents:\n",
      "'Academy' started successfully!\n",
      "Unity Academy name: Academy\n",
      "        Number of Brains: 1\n",
      "        Number of External Brains : 1\n",
      "        Lesson number : 0\n",
      "        Reset Parameters :\n",
      "\t\t\n",
      "Unity brain name: TennisBrain\n",
      "        Number of Visual Observations (per agent): 0\n",
      "        Vector Observation space type: continuous\n",
      "        Vector Observation space size (per agent): 8\n",
      "        Number of stacked Vector Observation: 3\n",
      "        Vector Action space type: continuous\n",
      "        Vector Action space size (per agent): 2\n",
      "        Vector Action descriptions: , \n"
     ]
    }
   ],
   "source": [
    "from unityagents import UnityEnvironment\n",
    "import numpy as np\n",
    "\n",
    "env = UnityEnvironment(file_name=\"/data/Tennis_Linux_NoVis/Tennis\")"
   ]
  },
  {
   "cell_type": "markdown",
   "metadata": {
    "pycharm": {
     "name": "#%% md\n"
    }
   },
   "source": [
    "Environments contain **_brains_** which are responsible for deciding the actions of their associated agents. Here we check for the first brain available, and set it as the default brain we will be controlling from Python."
   ]
  },
  {
   "cell_type": "code",
   "execution_count": 3,
   "metadata": {
    "pycharm": {
     "name": "#%%\n"
    }
   },
   "outputs": [],
   "source": [
    "# get the default brain\n",
    "brain_name = env.brain_names[0]\n",
    "brain = env.brains[brain_name]"
   ]
  },
  {
   "cell_type": "markdown",
   "metadata": {
    "pycharm": {
     "name": "#%% md\n"
    }
   },
   "source": [
    "### 2. Examine the State and Action Spaces\n",
    "\n",
    "Run the code cell below to print some information about the environment."
   ]
  },
  {
   "cell_type": "code",
   "execution_count": 4,
   "metadata": {
    "pycharm": {
     "name": "#%%\n"
    }
   },
   "outputs": [
    {
     "name": "stdout",
     "output_type": "stream",
     "text": [
      "Number of agents: 2\n",
      "Size of each action: 2\n",
      "There are 2 agents. Each observes a state with length: 24\n",
      "The state for the first agent looks like: [ 0.          0.          0.          0.          0.          0.          0.\n",
      "  0.          0.          0.          0.          0.          0.          0.\n",
      "  0.          0.         -6.65278625 -1.5        -0.          0.\n",
      "  6.83172083  6.         -0.          0.        ]\n"
     ]
    }
   ],
   "source": [
    "# reset the environment\n",
    "env_info = env.reset(train_mode=True)[brain_name]\n",
    "\n",
    "# number of agents \n",
    "num_agents = len(env_info.agents)\n",
    "print('Number of agents:', num_agents)\n",
    "\n",
    "# size of each action\n",
    "action_size = brain.vector_action_space_size\n",
    "print('Size of each action:', action_size)\n",
    "\n",
    "# examine the state space \n",
    "states = env_info.vector_observations\n",
    "state_size = states.shape[1]\n",
    "print('There are {} agents. Each observes a state with length: {}'.format(states.shape[0], state_size))\n",
    "print('The state for the first agent looks like:', states[0])"
   ]
  },
  {
   "cell_type": "markdown",
   "metadata": {
    "pycharm": {
     "name": "#%% md\n"
    }
   },
   "source": [
    "### 3. Take Random Actions in the Environment\n",
    "\n",
    "In the next code cell, you will learn how to use the Python API to control the agent and receive feedback from the environment.\n",
    "\n",
    "Note that **in this coding environment, you will not be able to watch the agents while they are training**, and you should set `train_mode=True` to restart the environment."
   ]
  },
  {
   "cell_type": "code",
   "execution_count": 5,
   "metadata": {
    "pycharm": {
     "name": "#%%\n"
    }
   },
   "outputs": [
    {
     "name": "stdout",
     "output_type": "stream",
     "text": [
      "Total score (averaged over agents) this episode: -0.004999999888241291\n",
      "Total score (averaged over agents) this episode: -0.004999999888241291\n",
      "Total score (averaged over agents) this episode: -0.004999999888241291\n",
      "Total score (averaged over agents) this episode: -0.004999999888241291\n",
      "Total score (averaged over agents) this episode: -0.004999999888241291\n"
     ]
    }
   ],
   "source": [
    "for i in range(5):                                         # play game for 5 episodes\n",
    "    env_info = env.reset(train_mode=False)[brain_name]     # reset the environment    \n",
    "    states = env_info.vector_observations                  # get the current state (for each agent)\n",
    "    scores = np.zeros(num_agents)                          # initialize the score (for each agent)\n",
    "    while True:\n",
    "        actions = np.random.randn(num_agents, action_size) # select an action (for each agent)\n",
    "        actions = np.clip(actions, -1, 1)                  # all actions between -1 and 1\n",
    "        env_info = env.step(actions)[brain_name]           # send all actions to tne environment\n",
    "        next_states = env_info.vector_observations         # get next state (for each agent)\n",
    "        rewards = env_info.rewards                         # get reward (for each agent)\n",
    "        dones = env_info.local_done                        # see if episode finished\n",
    "        scores += env_info.rewards                         # update the score (for each agent)\n",
    "        states = next_states                               # roll over states to next time step\n",
    "        if np.any(dones):                                  # exit loop if episode finished\n",
    "            break\n",
    "    print('Total score (averaged over agents) this episode: {}'.format(np.mean(scores)))"
   ]
  },
  {
   "cell_type": "markdown",
   "metadata": {
    "pycharm": {
     "name": "#%% md\n"
    }
   },
   "source": []
  },
  {
   "cell_type": "markdown",
   "metadata": {
    "pycharm": {
     "name": "#%% md\n"
    }
   },
   "source": [
    "### 4. It's Your Turn!\n",
    "\n",
    "Now it's your turn to train your own agent to solve the environment!  A few **important notes**:\n",
    "- When training the environment, set `train_mode=True`, so that the line for resetting the environment looks like the following:\n",
    "```python\n",
    "env_info = env.reset(train_mode=True)[brain_name]\n",
    "```\n",
    "- To structure your work, you're welcome to work directly in this Jupyter notebook, or you might like to start over with a new file!  You can see the list of files in the workspace by clicking on **_Jupyter_** in the top left corner of the notebook.\n",
    "- In this coding environment, you will not be able to watch the agents while they are training.  However, **_after training the agents_**, you can download the saved model weights to watch the agents on your own machine! "
   ]
  },
  {
   "cell_type": "code",
   "execution_count": 6,
   "metadata": {
    "pycharm": {
     "name": "#%%\n"
    }
   },
   "outputs": [],
   "source": [
    "import matplotlib.pyplot as plt\n",
    "import numpy as np\n",
    "import random\n",
    "import time\n",
    "import torch\n",
    "\n",
    "from maddpg_agent import Agent\n",
    "from train_utils import maddpg\n",
    "from collections import deque\n",
    "from unityagents import UnityEnvironment\n",
    "\n",
    "%matplotlib inline"
   ]
  },
  {
   "cell_type": "code",
   "execution_count": 8,
   "metadata": {
    "pycharm": {
     "name": "#%%\n"
    }
   },
   "outputs": [],
   "source": [
    "# initialize agents\n",
    "agent_0 = Agent(state_size, action_size, num_agents=1, random_seed=0)\n",
    "agent_1 = Agent(state_size, action_size, num_agents=1, random_seed=0)"
   ]
  },
  {
   "cell_type": "code",
   "execution_count": 13,
   "metadata": {
    "pycharm": {
     "name": "#%%\n"
    }
   },
   "outputs": [
    {
     "name": "stdout",
     "output_type": "stream",
     "text": [
      "Episodes 0000-0010\t Highest Reward: 0.100\t Lowest Reward: 0.000\t Average Score: 0.010\n",
      "Episodes 0010-0020\t Highest Reward: 0.100\t Lowest Reward: 0.000\t Average Score: 0.010\n",
      "Episodes 0020-0030\t Highest Reward: 0.100\t Lowest Reward: 0.000\t Average Score: 0.013\n",
      "Episodes 0030-0040\t Highest Reward: 0.000\t Lowest Reward: 0.000\t Average Score: 0.010\n",
      "Episodes 0040-0050\t Highest Reward: 0.000\t Lowest Reward: 0.000\t Average Score: 0.008\n",
      "Episodes 0050-0060\t Highest Reward: 0.100\t Lowest Reward: 0.000\t Average Score: 0.013\n",
      "Episodes 0060-0070\t Highest Reward: 0.200\t Lowest Reward: 0.000\t Average Score: 0.014\n",
      "Episodes 0070-0080\t Highest Reward: 0.100\t Lowest Reward: 0.000\t Average Score: 0.015\n",
      "Episodes 0080-0090\t Highest Reward: 0.100\t Lowest Reward: 0.000\t Average Score: 0.017\n",
      "Episodes 0090-0100\t Highest Reward: 0.200\t Lowest Reward: 0.000\t Average Score: 0.021\n",
      "Episodes 0100-0110\t Highest Reward: 0.200\t Lowest Reward: 0.000\t Average Score: 0.026\n",
      "Episodes 0110-0120\t Highest Reward: 0.100\t Lowest Reward: 0.000\t Average Score: 0.028\n",
      "Episodes 0120-0130\t Highest Reward: 0.200\t Lowest Reward: 0.000\t Average Score: 0.031\n",
      "Episodes 0130-0140\t Highest Reward: 0.100\t Lowest Reward: 0.000\t Average Score: 0.033\n",
      "Episodes 0140-0150\t Highest Reward: 0.100\t Lowest Reward: 0.000\t Average Score: 0.038\n",
      "Episodes 0150-0160\t Highest Reward: 0.100\t Lowest Reward: 0.000\t Average Score: 0.037\n",
      "Episodes 0160-0170\t Highest Reward: 0.100\t Lowest Reward: 0.000\t Average Score: 0.038\n",
      "Episodes 0170-0180\t Highest Reward: 0.100\t Lowest Reward: 0.000\t Average Score: 0.041\n",
      "Episodes 0180-0190\t Highest Reward: 0.100\t Lowest Reward: 0.000\t Average Score: 0.046\n",
      "Episodes 0190-0200\t Highest Reward: 0.300\t Lowest Reward: 0.000\t Average Score: 0.050\n",
      "Episodes 0200-0210\t Highest Reward: 0.300\t Lowest Reward: 0.000\t Average Score: 0.054\n",
      "Episodes 0210-0220\t Highest Reward: 0.300\t Lowest Reward: 0.000\t Average Score: 0.061\n",
      "Episodes 0220-0230\t Highest Reward: 0.100\t Lowest Reward: 0.000\t Average Score: 0.062\n",
      "Episodes 0230-0240\t Highest Reward: 0.200\t Lowest Reward: 0.100\t Average Score: 0.072\n",
      "Episodes 0240-0250\t Highest Reward: 0.200\t Lowest Reward: 0.000\t Average Score: 0.077\n",
      "Episodes 0250-0260\t Highest Reward: 0.200\t Lowest Reward: 0.000\t Average Score: 0.082\n",
      "Episodes 0260-0270\t Highest Reward: 0.200\t Lowest Reward: 0.000\t Average Score: 0.089\n",
      "Episodes 0270-0280\t Highest Reward: 0.100\t Lowest Reward: 0.000\t Average Score: 0.091\n",
      "Episodes 0280-0290\t Highest Reward: 0.200\t Lowest Reward: 0.000\t Average Score: 0.092\n",
      "Episodes 0290-0300\t Highest Reward: 0.100\t Lowest Reward: 0.000\t Average Score: 0.088\n",
      "Episodes 0300-0310\t Highest Reward: 0.200\t Lowest Reward: 0.100\t Average Score: 0.089\n",
      "Episodes 0310-0320\t Highest Reward: 0.300\t Lowest Reward: 0.100\t Average Score: 0.093\n",
      "Episodes 0320-0330\t Highest Reward: 0.200\t Lowest Reward: 0.100\t Average Score: 0.101\n",
      "Episodes 0330-0340\t Highest Reward: 0.200\t Lowest Reward: 0.000\t Average Score: 0.100\n",
      "Episodes 0340-0350\t Highest Reward: 0.400\t Lowest Reward: 0.100\t Average Score: 0.108\n",
      "Episodes 0350-0360\t Highest Reward: 0.400\t Lowest Reward: 0.100\t Average Score: 0.114\n",
      "Episodes 0360-0370\t Highest Reward: 0.300\t Lowest Reward: 0.100\t Average Score: 0.122\n",
      "Episodes 0370-0380\t Highest Reward: 0.200\t Lowest Reward: 0.000\t Average Score: 0.128\n",
      "Episodes 0380-0390\t Highest Reward: 0.500\t Lowest Reward: 0.100\t Average Score: 0.137\n",
      "Episodes 0390-0400\t Highest Reward: 0.400\t Lowest Reward: 0.100\t Average Score: 0.145\n",
      "Episodes 0400-0410\t Highest Reward: 0.200\t Lowest Reward: 0.090\t Average Score: 0.145\n",
      "Episodes 0410-0420\t Highest Reward: 0.500\t Lowest Reward: 0.000\t Average Score: 0.147\n",
      "Episodes 0420-0430\t Highest Reward: 0.400\t Lowest Reward: 0.100\t Average Score: 0.147\n",
      "Episodes 0430-0440\t Highest Reward: 0.200\t Lowest Reward: 0.100\t Average Score: 0.150\n",
      "Episodes 0440-0450\t Highest Reward: 0.200\t Lowest Reward: 0.100\t Average Score: 0.146\n",
      "Episodes 0450-0460\t Highest Reward: 0.200\t Lowest Reward: 0.100\t Average Score: 0.146\n",
      "Episodes 0460-0470\t Highest Reward: 0.300\t Lowest Reward: 0.100\t Average Score: 0.144\n",
      "Episodes 0470-0480\t Highest Reward: 0.200\t Lowest Reward: 0.100\t Average Score: 0.145\n",
      "Episodes 0480-0490\t Highest Reward: 0.200\t Lowest Reward: 0.100\t Average Score: 0.138\n",
      "Episodes 0490-0500\t Highest Reward: 0.400\t Lowest Reward: 0.000\t Average Score: 0.140\n",
      "Episodes 0500-0510\t Highest Reward: 0.300\t Lowest Reward: 0.100\t Average Score: 0.144\n",
      "Episodes 0510-0520\t Highest Reward: 0.700\t Lowest Reward: 0.100\t Average Score: 0.147\n",
      "Episodes 0520-0530\t Highest Reward: 1.100\t Lowest Reward: 0.100\t Average Score: 0.161\n",
      "Episodes 0530-0540\t Highest Reward: 0.500\t Lowest Reward: 0.100\t Average Score: 0.167\n",
      "Episodes 0540-0550\t Highest Reward: 0.600\t Lowest Reward: 0.100\t Average Score: 0.169\n",
      "Episodes 0550-0560\t Highest Reward: 1.090\t Lowest Reward: 0.100\t Average Score: 0.180\n",
      "Episodes 0560-0570\t Highest Reward: 4.300\t Lowest Reward: 0.100\t Average Score: 0.235\n",
      "Episodes 0570-0580\t Highest Reward: 1.000\t Lowest Reward: 0.100\t Average Score: 0.264\n",
      "Episodes 0580-0590\t Highest Reward: 3.500\t Lowest Reward: 0.000\t Average Score: 0.362\n",
      "Episodes 0590-0600\t Highest Reward: 4.300\t Lowest Reward: 0.000\t Average Score: 0.465\n",
      "<-- Environment solved in 502 episodes!                 \n",
      "<-- Average Score: 0.510 over past 100 episodes\n",
      "CPU times: user 10min 31s, sys: 13.5 s, total: 10min 45s\n",
      "Wall time: 11min 7s\n"
     ]
    }
   ],
   "source": [
    "%%time\n",
    "scores, avgs = maddpg(env=env, brain_name=brain_name, agent_0=agent_0, agent_1=agent_1, scoring_episodes=100,\n",
    "                     n_episodes=2000, train_mode=True, print_every=10, target_score=0.5)"
   ]
  },
  {
   "cell_type": "code",
   "execution_count": 14,
   "metadata": {
    "pycharm": {
     "name": "#%%\n"
    }
   },
   "outputs": [
    {
     "data": {
      "image/png": "[encoded data removed]",
      "text/plain": [
       "<matplotlib.figure.Figure at 0x7fb7cb614908>"
      ]
     },
     "metadata": {
      "needs_background": "light"
     },
     "output_type": "display_data"
    }
   ],
   "source": [
    "# plot the scores\n",
    "fig = plt.figure()\n",
    "ax = fig.add_subplot(111)\n",
    "plt.plot(np.arange(len(scores)), scores, label='MADDPG')\n",
    "plt.plot(np.arange(len(scores)), avgs, c='r', label='Average Score avg')\n",
    "plt.ylabel('Score')\n",
    "plt.xlabel('Episode #')\n",
    "plt.legend(loc='upper left');\n",
    "plt.show()"
   ]
  },
  {
   "cell_type": "code",
   "execution_count": 15,
   "metadata": {
    "pycharm": {
     "name": "#%%\n"
    }
   },
   "outputs": [],
   "source": [
    "fig.savefig(\"scores.png\", dpi=300)"
   ]
  },
  {
   "cell_type": "markdown",
   "metadata": {
    "pycharm": {
     "name": "#%% md\n"
    }
   },
   "source": [
    "# Closing the environment after finished training"
   ]
  },
  {
   "cell_type": "code",
   "execution_count": null,
   "metadata": {
    "pycharm": {
     "name": "#%%\n"
    }
   },
   "outputs": [],
   "source": [
    "env.close()"
   ]
  }
 ],
 "metadata": {
  "kernelspec": {
   "display_name": "Python 3",
   "language": "python",
   "name": "python3"
  },
  "language_info": {
   "codemirror_mode": {
    "name": "ipython",
    "version": 3
   },
   "file_extension": ".py",
   "mimetype": "text/x-python",
   "name": "python",
   "nbconvert_exporter": "python",
   "pygments_lexer": "ipython3",
   "version": "3.6.3"
  }
 },
 "nbformat": 4,
 "nbformat_minor": 2
}